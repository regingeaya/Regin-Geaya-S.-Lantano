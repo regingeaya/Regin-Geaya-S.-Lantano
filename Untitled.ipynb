{
 "cells": [
  {
   "cell_type": "code",
   "execution_count": 2,
   "metadata": {},
   "outputs": [
    {
     "name": "stdin",
     "output_type": "stream",
     "text": [
      "Say:  Arithmetic\n"
     ]
    },
    {
     "name": "stdout",
     "output_type": "stream",
     "text": [
      "Is a fundamental component of a computers\n"
     ]
    }
   ],
   "source": [
    "dictionary = { \n",
    "    \"Arithmetic\": \"Is a fundamental component of a computers\",\n",
    "    \"Binary code\": \"Binary code represents data and intructions\",\n",
    "    \"Data bus\": \"Is a communication pathway that allows data to be transferred\",\n",
    "    \"Embedded system\": \"Is a specialized computer system that perform large dedicated functions\",\n",
    "    \"firmware\": \"Is type of software permanently stored in hardware devices\",\n",
    "    \"Graphics Processing unit\": \"Specialized electronic circuit designed to accelearate the images\",\n",
    "    \"Hardware\": \"Components of computer system\", \n",
    "    \"java\": \"Is a popular programming language\",\n",
    "    \"kernel\": \"Components of an operating system that manages system resources\",\n",
    "    \"Logic gate\": \"Is a fundamental building block of digital circuits\",\n",
    "    \"Machine code\": \"Is a low level programming language\",\n",
    "    \"Network interface card\": \"Is a hardware component that enables a computer to connect to a network\",\n",
    "    \"Random access memory\": \"Is a type of computer memory\",\n",
    "    \"Computer aided design\": \"Is a software that used to create digital designs\", \n",
    "    \"Microprocessor\": \"A central processing unit\",\n",
    "    \"Firmware\": \"Software permanently programmed into hardware\",\n",
    "    \"Computer architecture\": \"Design and organization of computer systems\",\n",
    "    \"Byte\": \"A group of eight bits\",\n",
    "    \"Software engineer\": \"Focusing on systematic approaches to design, maintenance etc\",\n",
    "    \"Hard disk drive\": \"A traditional storage device that uses magnetic disks\",\n",
    "    \"Thermodynamics\": \"The branch of physics\",\n",
    "    \"Operating system\": \"software that manages computer hardware\",\n",
    "    \"Router\": \"A device that forwards data packets between networks\",\n",
    "    \"Virtual machine\": \"A software based simulation of physical computer\",\n",
    "    \"Analysis\": \"The process of examining components to understand their structure\", \n",
    "    \"Circuit\": \"A closed loop through current flows, often involving resistors\",\n",
    "    \"Newtons law\": \"Three fundamental laws describing relationship between the motion and objects\",\n",
    "    \"Power\": \"The rate at which work is done or energy is transferred\", \n",
    "    \"Robotics\": \"The design and construction of robots to perform tasks autonomously\",\n",
    "    \"Cache\": \"A small high speed storage area used to store frequently accesses\",\n",
    "}\n",
    "a = input (\"Say: \") \n",
    "print(dictionary[a])\n"
   ]
  },
  {
   "cell_type": "code",
   "execution_count": null,
   "metadata": {},
   "outputs": [],
   "source": []
  }
 ],
 "metadata": {
  "kernelspec": {
   "display_name": "Python 3 (ipykernel)",
   "language": "python",
   "name": "python3"
  },
  "language_info": {
   "codemirror_mode": {
    "name": "ipython",
    "version": 3
   },
   "file_extension": ".py",
   "mimetype": "text/x-python",
   "name": "python",
   "nbconvert_exporter": "python",
   "pygments_lexer": "ipython3",
   "version": "3.11.0"
  }
 },
 "nbformat": 4,
 "nbformat_minor": 4
}
